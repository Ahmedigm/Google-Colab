{
  "nbformat": 4,
  "nbformat_minor": 0,
  "metadata": {
    "colab": {
      "provenance": [],
      "authorship_tag": "ABX9TyNKFFfVdjGOvJEnwKI8mw1J",
      "include_colab_link": true
    },
    "kernelspec": {
      "name": "python3",
      "display_name": "Python 3"
    },
    "language_info": {
      "name": "python"
    }
  },
  "cells": [
    {
      "cell_type": "markdown",
      "metadata": {
        "id": "view-in-github",
        "colab_type": "text"
      },
      "source": [
        "<a href=\"https://colab.research.google.com/github/Ahmedigm/Ahmedigm/blob/main/Social_Media_%26_Elections_in_Nigeria.ipynb\" target=\"_parent\"><img src=\"https://colab.research.google.com/assets/colab-badge.svg\" alt=\"Open In Colab\"/></a>"
      ]
    },
    {
      "cell_type": "code",
      "source": [
        "!pip install spss-converter"
      ],
      "metadata": {
        "colab": {
          "base_uri": "https://localhost:8080/"
        },
        "id": "HEBUlR7WnTP0",
        "outputId": "ee7531c8-a60f-41c2-b065-ca1121062953"
      },
      "execution_count": 1,
      "outputs": [
        {
          "output_type": "stream",
          "name": "stdout",
          "text": [
            "Looking in indexes: https://pypi.org/simple, https://us-python.pkg.dev/colab-wheels/public/simple/\n",
            "Collecting spss-converter\n",
            "  Downloading spss_converter-0.1.1-py2.py3-none-any.whl (16 kB)\n",
            "Requirement already satisfied: pandas>=1.2.0 in /usr/local/lib/python3.7/dist-packages (from spss-converter) (1.3.5)\n",
            "Collecting simplejson>=3.0\n",
            "  Downloading simplejson-3.17.6-cp37-cp37m-manylinux_2_5_x86_64.manylinux1_x86_64.manylinux_2_12_x86_64.manylinux2010_x86_64.whl (130 kB)\n",
            "\u001b[K     |████████████████████████████████| 130 kB 3.4 MB/s \n",
            "\u001b[?25hRequirement already satisfied: PyYAML in /usr/local/lib/python3.7/dist-packages (from spss-converter) (6.0)\n",
            "Requirement already satisfied: openpyxl>=3.0.7 in /usr/local/lib/python3.7/dist-packages (from spss-converter) (3.0.10)\n",
            "Collecting validator-collection>=1.5.0\n",
            "  Downloading validator_collection-1.5.0-py2.py3-none-any.whl (36 kB)\n",
            "Collecting pyreadstat>=1.0.6\n",
            "  Downloading pyreadstat-1.1.9-cp37-cp37m-manylinux_2_17_x86_64.manylinux2014_x86_64.whl (2.5 MB)\n",
            "\u001b[K     |████████████████████████████████| 2.5 MB 32.6 MB/s \n",
            "\u001b[?25hRequirement already satisfied: et-xmlfile in /usr/local/lib/python3.7/dist-packages (from openpyxl>=3.0.7->spss-converter) (1.1.0)\n",
            "Requirement already satisfied: numpy>=1.17.3 in /usr/local/lib/python3.7/dist-packages (from pandas>=1.2.0->spss-converter) (1.21.6)\n",
            "Requirement already satisfied: python-dateutil>=2.7.3 in /usr/local/lib/python3.7/dist-packages (from pandas>=1.2.0->spss-converter) (2.8.2)\n",
            "Requirement already satisfied: pytz>=2017.3 in /usr/local/lib/python3.7/dist-packages (from pandas>=1.2.0->spss-converter) (2022.2.1)\n",
            "Requirement already satisfied: six>=1.5 in /usr/local/lib/python3.7/dist-packages (from python-dateutil>=2.7.3->pandas>=1.2.0->spss-converter) (1.15.0)\n",
            "Requirement already satisfied: jsonschema in /usr/local/lib/python3.7/dist-packages (from validator-collection>=1.5.0->spss-converter) (4.3.3)\n",
            "Requirement already satisfied: importlib-resources>=1.4.0 in /usr/local/lib/python3.7/dist-packages (from jsonschema->validator-collection>=1.5.0->spss-converter) (5.9.0)\n",
            "Requirement already satisfied: attrs>=17.4.0 in /usr/local/lib/python3.7/dist-packages (from jsonschema->validator-collection>=1.5.0->spss-converter) (22.1.0)\n",
            "Requirement already satisfied: pyrsistent!=0.17.0,!=0.17.1,!=0.17.2,>=0.14.0 in /usr/local/lib/python3.7/dist-packages (from jsonschema->validator-collection>=1.5.0->spss-converter) (0.18.1)\n",
            "Requirement already satisfied: importlib-metadata in /usr/local/lib/python3.7/dist-packages (from jsonschema->validator-collection>=1.5.0->spss-converter) (4.12.0)\n",
            "Requirement already satisfied: typing-extensions in /usr/local/lib/python3.7/dist-packages (from jsonschema->validator-collection>=1.5.0->spss-converter) (4.1.1)\n",
            "Requirement already satisfied: zipp>=3.1.0 in /usr/local/lib/python3.7/dist-packages (from importlib-resources>=1.4.0->jsonschema->validator-collection>=1.5.0->spss-converter) (3.8.1)\n",
            "Installing collected packages: validator-collection, simplejson, pyreadstat, spss-converter\n",
            "Successfully installed pyreadstat-1.1.9 simplejson-3.17.6 spss-converter-0.1.1 validator-collection-1.5.0\n"
          ]
        }
      ]
    },
    {
      "cell_type": "code",
      "execution_count": 2,
      "metadata": {
        "id": "Bo54wFZ0lY7q"
      },
      "outputs": [],
      "source": [
        "import spss_converter\n",
        "spss_converter.to_csv('social_media_and_elections_nigeria.sav', target = 'social_media_and_elections_nigeria.csv')"
      ]
    },
    {
      "cell_type": "code",
      "source": [
        "import pandas as pd\n",
        "social_election = pd.read_csv('social_media_and_elections_nigeria.csv')\n",
        "print(social_election.head())"
      ],
      "metadata": {
        "colab": {
          "base_uri": "https://localhost:8080/"
        },
        "id": "aBcscWKanmVq",
        "outputId": "03ae24aa-b338-40e1-ac63-32349bc07bd8"
      },
      "execution_count": 3,
      "outputs": [
        {
          "output_type": "stream",
          "name": "stdout",
          "text": [
            "  |Gender|Age|Occupation|Levelofeducation|Received_fake_news_on_POLITICS|Received_fake_news_on_ELECTIONS|Prevalent_SOCIALMEDIA_Fake_News_Politics|Prevalent_SOCIALMEDIA_Fake_News_Elections|Awar_Fake_Nws1|Awar_Fake_Nws2|Awar_Fake_Nws3|Awar_Fake_Nws4|Neg_Influ_Fak_Nws1|Neg_Influ_Fak_Nws2|Neg_Influ_Fak_Nws3|Inoculatoin_to_Fak_Nws1|Inoculatoin_to_Fak_Nws2|Inoculatoin_to_Fak_Nws3|Inoculatoin_to_Fak_Nws4\n",
            "0  0|Male|18 - 35years|Civil servant|Master Degre...                                                                                                                                                                                                                                                                                                                                                            \n",
            "1  1|Male|18 - 35years|Student|Diploma/OND|4|2|Fa...                                                                                                                                                                                                                                                                                                                                                            \n",
            "2  2|Male|36 - 51 years|Self-employed|HND/B. A. /...                                                                                                                                                                                                                                                                                                                                                            \n",
            "3  3|Female|18 - 35years|Student|HND/B. A. /BSc. ...                                                                                                                                                                                                                                                                                                                                                            \n",
            "4  4|Male|18 - 35years|Self-employed|Master Degre...                                                                                                                                                                                                                                                                                                                                                            \n"
          ]
        }
      ]
    },
    {
      "cell_type": "code",
      "source": [
        "print(social_election.info())"
      ],
      "metadata": {
        "id": "EzZJ8bECoIs1",
        "colab": {
          "base_uri": "https://localhost:8080/"
        },
        "outputId": "e913e24d-5aee-4fd4-d3ba-ae7ceec6a092"
      },
      "execution_count": 4,
      "outputs": [
        {
          "output_type": "stream",
          "name": "stdout",
          "text": [
            "<class 'pandas.core.frame.DataFrame'>\n",
            "RangeIndex: 290 entries, 0 to 289\n",
            "Data columns (total 1 columns):\n",
            " #   Column                                                                                                                                                                                                                                                                                                                                                                                                          Non-Null Count  Dtype \n",
            "---  ------                                                                                                                                                                                                                                                                                                                                                                                                          --------------  ----- \n",
            " 0   |Gender|Age|Occupation|Levelofeducation|Received_fake_news_on_POLITICS|Received_fake_news_on_ELECTIONS|Prevalent_SOCIALMEDIA_Fake_News_Politics|Prevalent_SOCIALMEDIA_Fake_News_Elections|Awar_Fake_Nws1|Awar_Fake_Nws2|Awar_Fake_Nws3|Awar_Fake_Nws4|Neg_Influ_Fak_Nws1|Neg_Influ_Fak_Nws2|Neg_Influ_Fak_Nws3|Inoculatoin_to_Fak_Nws1|Inoculatoin_to_Fak_Nws2|Inoculatoin_to_Fak_Nws3|Inoculatoin_to_Fak_Nws4  290 non-null    object\n",
            "dtypes: object(1)\n",
            "memory usage: 2.4+ KB\n",
            "None\n"
          ]
        }
      ]
    },
    {
      "cell_type": "code",
      "source": [
        "column_list = social_election.columns.str.split(\"|\")\n",
        "print(column_list)"
      ],
      "metadata": {
        "id": "06eaQOVT4GPQ",
        "colab": {
          "base_uri": "https://localhost:8080/"
        },
        "outputId": "a1d6f0e3-1a3b-4ba8-d749-5a239bd24b40"
      },
      "execution_count": 5,
      "outputs": [
        {
          "output_type": "stream",
          "name": "stdout",
          "text": [
            "Index([['', 'Gender', 'Age', 'Occupation', 'Levelofeducation', 'Received_fake_news_on_POLITICS', 'Received_fake_news_on_ELECTIONS', 'Prevalent_SOCIALMEDIA_Fake_News_Politics', 'Prevalent_SOCIALMEDIA_Fake_News_Elections', 'Awar_Fake_Nws1', 'Awar_Fake_Nws2', 'Awar_Fake_Nws3', 'Awar_Fake_Nws4', 'Neg_Influ_Fak_Nws1', 'Neg_Influ_Fak_Nws2', 'Neg_Influ_Fak_Nws3', 'Inoculatoin_to_Fak_Nws1', 'Inoculatoin_to_Fak_Nws2', 'Inoculatoin_to_Fak_Nws3', 'Inoculatoin_to_Fak_Nws4']], dtype='object')\n"
          ]
        }
      ]
    },
    {
      "cell_type": "code",
      "source": [
        "new_col_list = list(column_list)\n",
        "print(type(new_col_list))"
      ],
      "metadata": {
        "id": "Wm1Fih41EGBH",
        "colab": {
          "base_uri": "https://localhost:8080/"
        },
        "outputId": "1d4b4ef1-760a-4c9c-f182-6185747865ed"
      },
      "execution_count": 6,
      "outputs": [
        {
          "output_type": "stream",
          "name": "stdout",
          "text": [
            "<class 'list'>\n"
          ]
        }
      ]
    },
    {
      "cell_type": "code",
      "source": [
        "col_list = new_col_list[0]\n",
        "print(col_list)"
      ],
      "metadata": {
        "id": "pN3rqo8eFKFw",
        "colab": {
          "base_uri": "https://localhost:8080/"
        },
        "outputId": "3c58fc18-f828-4e98-9883-36f647c36c88"
      },
      "execution_count": 7,
      "outputs": [
        {
          "output_type": "stream",
          "name": "stdout",
          "text": [
            "['', 'Gender', 'Age', 'Occupation', 'Levelofeducation', 'Received_fake_news_on_POLITICS', 'Received_fake_news_on_ELECTIONS', 'Prevalent_SOCIALMEDIA_Fake_News_Politics', 'Prevalent_SOCIALMEDIA_Fake_News_Elections', 'Awar_Fake_Nws1', 'Awar_Fake_Nws2', 'Awar_Fake_Nws3', 'Awar_Fake_Nws4', 'Neg_Influ_Fak_Nws1', 'Neg_Influ_Fak_Nws2', 'Neg_Influ_Fak_Nws3', 'Inoculatoin_to_Fak_Nws1', 'Inoculatoin_to_Fak_Nws2', 'Inoculatoin_to_Fak_Nws3', 'Inoculatoin_to_Fak_Nws4']\n"
          ]
        }
      ]
    },
    {
      "cell_type": "code",
      "source": [
        "string_list = ' '.join(col_list)\n",
        "print(string_list)"
      ],
      "metadata": {
        "id": "PU1PUshZGYUG",
        "colab": {
          "base_uri": "https://localhost:8080/"
        },
        "outputId": "d4c7b41c-d425-4556-b3ad-d7a465dbd65c"
      },
      "execution_count": 8,
      "outputs": [
        {
          "output_type": "stream",
          "name": "stdout",
          "text": [
            " Gender Age Occupation Levelofeducation Received_fake_news_on_POLITICS Received_fake_news_on_ELECTIONS Prevalent_SOCIALMEDIA_Fake_News_Politics Prevalent_SOCIALMEDIA_Fake_News_Elections Awar_Fake_Nws1 Awar_Fake_Nws2 Awar_Fake_Nws3 Awar_Fake_Nws4 Neg_Influ_Fak_Nws1 Neg_Influ_Fak_Nws2 Neg_Influ_Fak_Nws3 Inoculatoin_to_Fak_Nws1 Inoculatoin_to_Fak_Nws2 Inoculatoin_to_Fak_Nws3 Inoculatoin_to_Fak_Nws4\n"
          ]
        }
      ]
    },
    {
      "cell_type": "code",
      "source": [
        "edited_col_list = string_list.split()\n",
        "print(edited_col_list)"
      ],
      "metadata": {
        "id": "lmzW_uFCHPDf",
        "colab": {
          "base_uri": "https://localhost:8080/"
        },
        "outputId": "78881b5c-5937-4ccb-a766-7767928c6be9"
      },
      "execution_count": 9,
      "outputs": [
        {
          "output_type": "stream",
          "name": "stdout",
          "text": [
            "['Gender', 'Age', 'Occupation', 'Levelofeducation', 'Received_fake_news_on_POLITICS', 'Received_fake_news_on_ELECTIONS', 'Prevalent_SOCIALMEDIA_Fake_News_Politics', 'Prevalent_SOCIALMEDIA_Fake_News_Elections', 'Awar_Fake_Nws1', 'Awar_Fake_Nws2', 'Awar_Fake_Nws3', 'Awar_Fake_Nws4', 'Neg_Influ_Fak_Nws1', 'Neg_Influ_Fak_Nws2', 'Neg_Influ_Fak_Nws3', 'Inoculatoin_to_Fak_Nws1', 'Inoculatoin_to_Fak_Nws2', 'Inoculatoin_to_Fak_Nws3', 'Inoculatoin_to_Fak_Nws4']\n"
          ]
        }
      ]
    },
    {
      "cell_type": "code",
      "source": [
        "print(social_election.head())"
      ],
      "metadata": {
        "id": "8rgMPb8YH2BI",
        "colab": {
          "base_uri": "https://localhost:8080/"
        },
        "outputId": "55caac86-250f-43b1-b6f1-b3814f59487f"
      },
      "execution_count": 10,
      "outputs": [
        {
          "output_type": "stream",
          "name": "stdout",
          "text": [
            "  |Gender|Age|Occupation|Levelofeducation|Received_fake_news_on_POLITICS|Received_fake_news_on_ELECTIONS|Prevalent_SOCIALMEDIA_Fake_News_Politics|Prevalent_SOCIALMEDIA_Fake_News_Elections|Awar_Fake_Nws1|Awar_Fake_Nws2|Awar_Fake_Nws3|Awar_Fake_Nws4|Neg_Influ_Fak_Nws1|Neg_Influ_Fak_Nws2|Neg_Influ_Fak_Nws3|Inoculatoin_to_Fak_Nws1|Inoculatoin_to_Fak_Nws2|Inoculatoin_to_Fak_Nws3|Inoculatoin_to_Fak_Nws4\n",
            "0  0|Male|18 - 35years|Civil servant|Master Degre...                                                                                                                                                                                                                                                                                                                                                            \n",
            "1  1|Male|18 - 35years|Student|Diploma/OND|4|2|Fa...                                                                                                                                                                                                                                                                                                                                                            \n",
            "2  2|Male|36 - 51 years|Self-employed|HND/B. A. /...                                                                                                                                                                                                                                                                                                                                                            \n",
            "3  3|Female|18 - 35years|Student|HND/B. A. /BSc. ...                                                                                                                                                                                                                                                                                                                                                            \n",
            "4  4|Male|18 - 35years|Self-employed|Master Degre...                                                                                                                                                                                                                                                                                                                                                            \n"
          ]
        }
      ]
    },
    {
      "cell_type": "code",
      "source": [
        "social_election_edited = social_election[\"|Gender|Age|Occupation|Levelofeducation|Received_fake_news_on_POLITICS|Received_fake_news_on_ELECTIONS|Prevalent_SOCIALMEDIA_Fake_News_Politics|Prevalent_SOCIALMEDIA_Fake_News_Elections|Awar_Fake_Nws1|Awar_Fake_Nws2|Awar_Fake_Nws3|Awar_Fake_Nws4|Neg_Influ_Fak_Nws1|Neg_Influ_Fak_Nws2|Neg_Influ_Fak_Nws3|Inoculatoin_to_Fak_Nws1|Inoculatoin_to_Fak_Nws2|Inoculatoin_to_Fak_Nws3|Inoculatoin_to_Fak_Nws4\"].str.split(\"|\", expand = True)\n",
        "print(social_election_edited.info())"
      ],
      "metadata": {
        "id": "xS19CIddI-zQ",
        "colab": {
          "base_uri": "https://localhost:8080/"
        },
        "outputId": "d7f89a66-f322-45e3-d670-42833bc86097"
      },
      "execution_count": 11,
      "outputs": [
        {
          "output_type": "stream",
          "name": "stdout",
          "text": [
            "<class 'pandas.core.frame.DataFrame'>\n",
            "RangeIndex: 290 entries, 0 to 289\n",
            "Data columns (total 20 columns):\n",
            " #   Column  Non-Null Count  Dtype \n",
            "---  ------  --------------  ----- \n",
            " 0   0       290 non-null    object\n",
            " 1   1       290 non-null    object\n",
            " 2   2       290 non-null    object\n",
            " 3   3       290 non-null    object\n",
            " 4   4       290 non-null    object\n",
            " 5   5       290 non-null    object\n",
            " 6   6       290 non-null    object\n",
            " 7   7       290 non-null    object\n",
            " 8   8       290 non-null    object\n",
            " 9   9       290 non-null    object\n",
            " 10  10      290 non-null    object\n",
            " 11  11      290 non-null    object\n",
            " 12  12      290 non-null    object\n",
            " 13  13      290 non-null    object\n",
            " 14  14      290 non-null    object\n",
            " 15  15      290 non-null    object\n",
            " 16  16      290 non-null    object\n",
            " 17  17      290 non-null    object\n",
            " 18  18      290 non-null    object\n",
            " 19  19      290 non-null    object\n",
            "dtypes: object(20)\n",
            "memory usage: 45.4+ KB\n",
            "None\n"
          ]
        }
      ]
    },
    {
      "cell_type": "code",
      "source": [
        "print(social_election_edited.head())"
      ],
      "metadata": {
        "id": "_hrJqfWhJ2-a",
        "colab": {
          "base_uri": "https://localhost:8080/"
        },
        "outputId": "47597c59-7a1f-48b0-ad94-716dbb09f07e"
      },
      "execution_count": 12,
      "outputs": [
        {
          "output_type": "stream",
          "name": "stdout",
          "text": [
            "  0       1              2              3   \\\n",
            "0  0    Male   18 - 35years  Civil servant   \n",
            "1  1    Male   18 - 35years        Student   \n",
            "2  2    Male  36 - 51 years  Self-employed   \n",
            "3  3  Female   18 - 35years        Student   \n",
            "4  4    Male   18 - 35years  Self-employed   \n",
            "\n",
            "                                   4  5  6                          7   \\\n",
            "0  Master Degree/Postgraduate Diploma  1  1  Facebook;WhatsApp;YouTube   \n",
            "1                         Diploma/OND  4  2           Facebook;Twitter   \n",
            "2              HND/B. A. /BSc. Degree  2  4          Facebook;WhatsApp   \n",
            "3              HND/B. A. /BSc. Degree  3  3          Facebook;WhatsApp   \n",
            "4  Master Degree/Postgraduate Diploma  3  1          Facebook;WhatsApp   \n",
            "\n",
            "                          8  9  10 11 12 13 14 15 16 17 18 19  \n",
            "0  Facebook;WhatsApp;YouTube  4  4  4  4  2  2     4  4  4  4  \n",
            "1  Facebook;WhatsApp;Twitter  5  4  4  4  2  1  1  3  4  4  5  \n",
            "2          Facebook;WhatsApp  5  5  5  5  2  2  1  4  4  5  5  \n",
            "3          Facebook;WhatsApp  3  4  4  4  3  2  4  2  3  2  2  \n",
            "4          Facebook;WhatsApp  5  5  5     5  5  4  4  3  4  4  \n"
          ]
        }
      ]
    },
    {
      "cell_type": "code",
      "source": [
        "social_election_clean = social_election_edited.drop(social_election_edited.columns[0], axis=1)\n",
        "print(social_election_clean.head())"
      ],
      "metadata": {
        "id": "Bnp2elAKMY7Q",
        "colab": {
          "base_uri": "https://localhost:8080/"
        },
        "outputId": "a4e3c4f2-3d5c-447f-a109-657d9be7d8d6"
      },
      "execution_count": 13,
      "outputs": [
        {
          "output_type": "stream",
          "name": "stdout",
          "text": [
            "       1              2              3                                   4   \\\n",
            "0    Male   18 - 35years  Civil servant  Master Degree/Postgraduate Diploma   \n",
            "1    Male   18 - 35years        Student                         Diploma/OND   \n",
            "2    Male  36 - 51 years  Self-employed              HND/B. A. /BSc. Degree   \n",
            "3  Female   18 - 35years        Student              HND/B. A. /BSc. Degree   \n",
            "4    Male   18 - 35years  Self-employed  Master Degree/Postgraduate Diploma   \n",
            "\n",
            "  5  6                          7                          8  9  10 11 12 13  \\\n",
            "0  1  1  Facebook;WhatsApp;YouTube  Facebook;WhatsApp;YouTube  4  4  4  4  2   \n",
            "1  4  2           Facebook;Twitter  Facebook;WhatsApp;Twitter  5  4  4  4  2   \n",
            "2  2  4          Facebook;WhatsApp          Facebook;WhatsApp  5  5  5  5  2   \n",
            "3  3  3          Facebook;WhatsApp          Facebook;WhatsApp  3  4  4  4  3   \n",
            "4  3  1          Facebook;WhatsApp          Facebook;WhatsApp  5  5  5     5   \n",
            "\n",
            "  14 15 16 17 18 19  \n",
            "0  2     4  4  4  4  \n",
            "1  1  1  3  4  4  5  \n",
            "2  2  1  4  4  5  5  \n",
            "3  2  4  2  3  2  2  \n",
            "4  5  4  4  3  4  4  \n"
          ]
        }
      ]
    },
    {
      "cell_type": "code",
      "source": [
        "social_election_clean.columns = edited_col_list\n",
        "print(social_election_clean.info())"
      ],
      "metadata": {
        "id": "FwFfT3IHMgsr",
        "colab": {
          "base_uri": "https://localhost:8080/"
        },
        "outputId": "ca9b7017-b804-405f-eb7d-24c5d62a83b5"
      },
      "execution_count": 14,
      "outputs": [
        {
          "output_type": "stream",
          "name": "stdout",
          "text": [
            "<class 'pandas.core.frame.DataFrame'>\n",
            "RangeIndex: 290 entries, 0 to 289\n",
            "Data columns (total 19 columns):\n",
            " #   Column                                     Non-Null Count  Dtype \n",
            "---  ------                                     --------------  ----- \n",
            " 0   Gender                                     290 non-null    object\n",
            " 1   Age                                        290 non-null    object\n",
            " 2   Occupation                                 290 non-null    object\n",
            " 3   Levelofeducation                           290 non-null    object\n",
            " 4   Received_fake_news_on_POLITICS             290 non-null    object\n",
            " 5   Received_fake_news_on_ELECTIONS            290 non-null    object\n",
            " 6   Prevalent_SOCIALMEDIA_Fake_News_Politics   290 non-null    object\n",
            " 7   Prevalent_SOCIALMEDIA_Fake_News_Elections  290 non-null    object\n",
            " 8   Awar_Fake_Nws1                             290 non-null    object\n",
            " 9   Awar_Fake_Nws2                             290 non-null    object\n",
            " 10  Awar_Fake_Nws3                             290 non-null    object\n",
            " 11  Awar_Fake_Nws4                             290 non-null    object\n",
            " 12  Neg_Influ_Fak_Nws1                         290 non-null    object\n",
            " 13  Neg_Influ_Fak_Nws2                         290 non-null    object\n",
            " 14  Neg_Influ_Fak_Nws3                         290 non-null    object\n",
            " 15  Inoculatoin_to_Fak_Nws1                    290 non-null    object\n",
            " 16  Inoculatoin_to_Fak_Nws2                    290 non-null    object\n",
            " 17  Inoculatoin_to_Fak_Nws3                    290 non-null    object\n",
            " 18  Inoculatoin_to_Fak_Nws4                    290 non-null    object\n",
            "dtypes: object(19)\n",
            "memory usage: 43.2+ KB\n",
            "None\n"
          ]
        }
      ]
    },
    {
      "cell_type": "code",
      "source": [
        "social_election_clean.columns = edited_col_list\n",
        "print(social_election_clean.head())"
      ],
      "metadata": {
        "id": "NgDvX78RTLbE",
        "colab": {
          "base_uri": "https://localhost:8080/"
        },
        "outputId": "6ea20bcb-bf92-4312-89e9-a142f5451d4b"
      },
      "execution_count": 15,
      "outputs": [
        {
          "output_type": "stream",
          "name": "stdout",
          "text": [
            "   Gender            Age     Occupation                    Levelofeducation  \\\n",
            "0    Male   18 - 35years  Civil servant  Master Degree/Postgraduate Diploma   \n",
            "1    Male   18 - 35years        Student                         Diploma/OND   \n",
            "2    Male  36 - 51 years  Self-employed              HND/B. A. /BSc. Degree   \n",
            "3  Female   18 - 35years        Student              HND/B. A. /BSc. Degree   \n",
            "4    Male   18 - 35years  Self-employed  Master Degree/Postgraduate Diploma   \n",
            "\n",
            "  Received_fake_news_on_POLITICS Received_fake_news_on_ELECTIONS  \\\n",
            "0                              1                               1   \n",
            "1                              4                               2   \n",
            "2                              2                               4   \n",
            "3                              3                               3   \n",
            "4                              3                               1   \n",
            "\n",
            "  Prevalent_SOCIALMEDIA_Fake_News_Politics  \\\n",
            "0                Facebook;WhatsApp;YouTube   \n",
            "1                         Facebook;Twitter   \n",
            "2                        Facebook;WhatsApp   \n",
            "3                        Facebook;WhatsApp   \n",
            "4                        Facebook;WhatsApp   \n",
            "\n",
            "  Prevalent_SOCIALMEDIA_Fake_News_Elections Awar_Fake_Nws1 Awar_Fake_Nws2  \\\n",
            "0                 Facebook;WhatsApp;YouTube              4              4   \n",
            "1                 Facebook;WhatsApp;Twitter              5              4   \n",
            "2                         Facebook;WhatsApp              5              5   \n",
            "3                         Facebook;WhatsApp              3              4   \n",
            "4                         Facebook;WhatsApp              5              5   \n",
            "\n",
            "  Awar_Fake_Nws3 Awar_Fake_Nws4 Neg_Influ_Fak_Nws1 Neg_Influ_Fak_Nws2  \\\n",
            "0              4              4                  2                  2   \n",
            "1              4              4                  2                  1   \n",
            "2              5              5                  2                  2   \n",
            "3              4              4                  3                  2   \n",
            "4              5                                 5                  5   \n",
            "\n",
            "  Neg_Influ_Fak_Nws3 Inoculatoin_to_Fak_Nws1 Inoculatoin_to_Fak_Nws2  \\\n",
            "0                                          4                       4   \n",
            "1                  1                       3                       4   \n",
            "2                  1                       4                       4   \n",
            "3                  4                       2                       3   \n",
            "4                  4                       4                       3   \n",
            "\n",
            "  Inoculatoin_to_Fak_Nws3 Inoculatoin_to_Fak_Nws4  \n",
            "0                       4                       4  \n",
            "1                       4                       5  \n",
            "2                       5                       5  \n",
            "3                       2                       2  \n",
            "4                       4                       4  \n"
          ]
        }
      ]
    },
    {
      "cell_type": "code",
      "source": [
        "new_col_names = ['Gender', 'Age', 'Occupation', 'Edu_Level', 'Recd_FN_Pol', 'Recd_FN_Elect', 'Preval_SM_Pol', 'Preval_SM_Elect', 'Awar_FN_1', 'Awar_FN_2', 'Awar_FN_3', 'Awar_FN_4', 'Neg_Influ_FN_1', 'Neg_Influ_FN_2', 'Neg_Influ_FN_3', 'Inoc_FN_1', 'Inoc_FN_2', 'Inoc_FN_3', 'Inoc_FN_4']\n",
        "social_election_clean.columns = new_col_names\n",
        "print(social_election_clean.head())"
      ],
      "metadata": {
        "id": "Yg8d8SNgUIiZ",
        "colab": {
          "base_uri": "https://localhost:8080/"
        },
        "outputId": "9eae160d-0a9e-4aa3-ecc6-8ce5e8ff78e7"
      },
      "execution_count": 16,
      "outputs": [
        {
          "output_type": "stream",
          "name": "stdout",
          "text": [
            "   Gender            Age     Occupation                           Edu_Level  \\\n",
            "0    Male   18 - 35years  Civil servant  Master Degree/Postgraduate Diploma   \n",
            "1    Male   18 - 35years        Student                         Diploma/OND   \n",
            "2    Male  36 - 51 years  Self-employed              HND/B. A. /BSc. Degree   \n",
            "3  Female   18 - 35years        Student              HND/B. A. /BSc. Degree   \n",
            "4    Male   18 - 35years  Self-employed  Master Degree/Postgraduate Diploma   \n",
            "\n",
            "  Recd_FN_Pol Recd_FN_Elect              Preval_SM_Pol  \\\n",
            "0           1             1  Facebook;WhatsApp;YouTube   \n",
            "1           4             2           Facebook;Twitter   \n",
            "2           2             4          Facebook;WhatsApp   \n",
            "3           3             3          Facebook;WhatsApp   \n",
            "4           3             1          Facebook;WhatsApp   \n",
            "\n",
            "             Preval_SM_Elect Awar_FN_1 Awar_FN_2 Awar_FN_3 Awar_FN_4  \\\n",
            "0  Facebook;WhatsApp;YouTube         4         4         4         4   \n",
            "1  Facebook;WhatsApp;Twitter         5         4         4         4   \n",
            "2          Facebook;WhatsApp         5         5         5         5   \n",
            "3          Facebook;WhatsApp         3         4         4         4   \n",
            "4          Facebook;WhatsApp         5         5         5             \n",
            "\n",
            "  Neg_Influ_FN_1 Neg_Influ_FN_2 Neg_Influ_FN_3 Inoc_FN_1 Inoc_FN_2 Inoc_FN_3  \\\n",
            "0              2              2                        4         4         4   \n",
            "1              2              1              1         3         4         4   \n",
            "2              2              2              1         4         4         5   \n",
            "3              3              2              4         2         3         2   \n",
            "4              5              5              4         4         3         4   \n",
            "\n",
            "  Inoc_FN_4  \n",
            "0         4  \n",
            "1         5  \n",
            "2         5  \n",
            "3         2  \n",
            "4         4  \n"
          ]
        }
      ]
    },
    {
      "cell_type": "code",
      "source": [
        "print(type(social_election_clean))"
      ],
      "metadata": {
        "id": "27i1HD_M6hGr",
        "colab": {
          "base_uri": "https://localhost:8080/"
        },
        "outputId": "7552408e-c945-4dd4-91ec-5a9b9fc7fcde"
      },
      "execution_count": 17,
      "outputs": [
        {
          "output_type": "stream",
          "name": "stdout",
          "text": [
            "<class 'pandas.core.frame.DataFrame'>\n"
          ]
        }
      ]
    },
    {
      "cell_type": "code",
      "source": [
        "social_election_clean['Neg_Influ_FN_1'] = social_election_clean['Neg_Influ_FN_1'].apply(lambda x: x.replace('', '0')).astype('int')\n",
        "print(social_election_clean.groupby('Occupation')['Neg_Influ_FN_1'].plot.hist())"
      ],
      "metadata": {
        "colab": {
          "base_uri": "https://localhost:8080/",
          "height": 543
        },
        "id": "Udsmi16YlOq6",
        "outputId": "37fd3d98-ff24-44df-f96e-35e5fa062a90"
      },
      "execution_count": 31,
      "outputs": [
        {
          "output_type": "stream",
          "name": "stdout",
          "text": [
            "Occupation\n",
            "                                         AxesSubplot(0.125,0.125;0.775x0.755)\n",
            "Civil servant                            AxesSubplot(0.125,0.125;0.775x0.755)\n",
            "Civil servant and student                AxesSubplot(0.125,0.125;0.775x0.755)\n",
            "Civil servant;Private sector employee    AxesSubplot(0.125,0.125;0.775x0.755)\n",
            "Journalism                               AxesSubplot(0.125,0.125;0.775x0.755)\n",
            "Private sector employee                  AxesSubplot(0.125,0.125;0.775x0.755)\n",
            "Private sector employee;Self-employed    AxesSubplot(0.125,0.125;0.775x0.755)\n",
            "Self-employed                            AxesSubplot(0.125,0.125;0.775x0.755)\n",
            "Student                                  AxesSubplot(0.125,0.125;0.775x0.755)\n",
            "Student;Civil servant                    AxesSubplot(0.125,0.125;0.775x0.755)\n",
            "Student;Npower beneficiary N-Tech        AxesSubplot(0.125,0.125;0.775x0.755)\n",
            "Student;Private sector employee          AxesSubplot(0.125,0.125;0.775x0.755)\n",
            "Student;Self-employed                    AxesSubplot(0.125,0.125;0.775x0.755)\n",
            "Unemployed                               AxesSubplot(0.125,0.125;0.775x0.755)\n",
            "Name: Neg_Influ_FN_1, dtype: object\n"
          ]
        },
        {
          "output_type": "display_data",
          "data": {
            "text/plain": [
              "<Figure size 432x288 with 1 Axes>"
            ],
            "image/png": "[encoded data removed]"
          },
          "metadata": {
            "needs_background": "light"
          }
        }
      ]
    },
    {
      "cell_type": "code",
      "source": [
        "#social_election_clean_indexed = social_election_clean.set_index('Occupation')\n",
        "print(pd.pivot_table(social_election_clean, values='Neg_Influ_FN_1', index='Occupation', columns=['Gender', 'Age'], margins=True, fill_value=0))"
      ],
      "metadata": {
        "colab": {
          "base_uri": "https://localhost:8080/"
        },
        "id": "R1KNcaWcy1U7",
        "outputId": "349aa17b-f566-4532-bfd1-e6be7cb92676"
      },
      "execution_count": 57,
      "outputs": [
        {
          "output_type": "stream",
          "name": "stdout",
          "text": [
            "Gender                                    Female                             \\\n",
            "Age                                              18 - 35years 36 - 51 years   \n",
            "Occupation                                                                    \n",
            "                                       10      0     0.000000      0.000000   \n",
            "Civil servant                           0      0    24.545455     25.714286   \n",
            "Civil servant and student               0      0     0.000000      0.000000   \n",
            "Civil servant;Private sector employee   0      0     0.000000      0.000000   \n",
            "Journalism                              0      0     0.000000      0.000000   \n",
            "Private sector employee                 0      0    25.000000     10.000000   \n",
            "Private sector employee;Self-employed   0      0     0.000000      0.000000   \n",
            "Self-employed                           0     30    27.500000     20.000000   \n",
            "Student                                 0     20    21.739130      0.000000   \n",
            "Student;Civil servant                   0      0     0.000000      0.000000   \n",
            "Student;Npower beneficiary N-Tech       0      0     0.000000      0.000000   \n",
            "Student;Private sector employee         0      0     0.000000      0.000000   \n",
            "Student;Self-employed                   0      0     0.000000      0.000000   \n",
            "Unemployed                              0      0    25.000000     20.000000   \n",
            "All                                    10     25    23.653846     24.117647   \n",
            "\n",
            "Gender                                                           Male       \\\n",
            "Age                                   52 years and above 18 - 35years 1962   \n",
            "Occupation                                                                   \n",
            "                                                       0    20.000000    0   \n",
            "Civil servant                                         20    23.461538   30   \n",
            "Civil servant and student                              0    40.000000    0   \n",
            "Civil servant;Private sector employee                  0     0.000000    0   \n",
            "Journalism                                             0     0.000000    0   \n",
            "Private sector employee                                0    18.947368    0   \n",
            "Private sector employee;Self-employed                  0    20.000000    0   \n",
            "Self-employed                                          0    25.714286    0   \n",
            "Student                                                0    26.140351    0   \n",
            "Student;Civil servant                                  0    23.333333    0   \n",
            "Student;Npower beneficiary N-Tech                      0    10.000000    0   \n",
            "Student;Private sector employee                        0    10.000000    0   \n",
            "Student;Self-employed                                  0    13.333333    0   \n",
            "Unemployed                                             0    23.076923    0   \n",
            "All                                                   20    23.785714   30   \n",
            "\n",
            "Gender                                                       \\\n",
            "Age                                    20  32 36 - 51 years   \n",
            "Occupation                                                    \n",
            "                                        0   0     20.000000   \n",
            "Civil servant                           0   0     25.555556   \n",
            "Civil servant and student               0   0      0.000000   \n",
            "Civil servant;Private sector employee   0   0     10.000000   \n",
            "Journalism                              0   0     40.000000   \n",
            "Private sector employee                 0   0     28.000000   \n",
            "Private sector employee;Self-employed   0   0      0.000000   \n",
            "Self-employed                           0  50     21.111111   \n",
            "Student                                20   0     20.000000   \n",
            "Student;Civil servant                   0   0     20.000000   \n",
            "Student;Npower beneficiary N-Tech       0   0      0.000000   \n",
            "Student;Private sector employee         0   0      0.000000   \n",
            "Student;Self-employed                   0   0      0.000000   \n",
            "Unemployed                              0   0     26.666667   \n",
            "All                                    20  50     24.745763   \n",
            "\n",
            "Gender                                                          All  \n",
            "Age                                   52 years and above             \n",
            "Occupation                                                           \n",
            "                                                0.000000  17.500000  \n",
            "Civil servant                                  20.833333  24.356436  \n",
            "Civil servant and student                       0.000000  40.000000  \n",
            "Civil servant;Private sector employee           0.000000  10.000000  \n",
            "Journalism                                      0.000000  40.000000  \n",
            "Private sector employee                         0.000000  21.515152  \n",
            "Private sector employee;Self-employed           0.000000  20.000000  \n",
            "Self-employed                                  10.000000  25.151515  \n",
            "Student                                         0.000000  24.698795  \n",
            "Student;Civil servant                           0.000000  22.500000  \n",
            "Student;Npower beneficiary N-Tech               0.000000  10.000000  \n",
            "Student;Private sector employee                 0.000000  10.000000  \n",
            "Student;Self-employed                           0.000000  13.333333  \n",
            "Unemployed                                      0.000000  23.913043  \n",
            "All                                            19.285714  23.896552  \n"
          ]
        }
      ]
    },
    {
      "cell_type": "code",
      "source": [
        "print(pd.pivot_table(social_election_clean, values='Neg_Influ_FN_1', index='Occupation', columns=['Gender', 'Age'], fill_value=0).plot.barh())"
      ],
      "metadata": {
        "colab": {
          "base_uri": "https://localhost:8080/",
          "height": 282
        },
        "id": "P_POzsP47w9w",
        "outputId": "630bff74-e9ba-4d25-bf87-0a9f01dba82d"
      },
      "execution_count": 64,
      "outputs": [
        {
          "output_type": "stream",
          "name": "stdout",
          "text": [
            "AxesSubplot(0.125,0.125;0.775x0.755)\n"
          ]
        },
        {
          "output_type": "display_data",
          "data": {
            "text/plain": [
              "<Figure size 432x288 with 1 Axes>"
            ],
            "image/png": "[encoded data removed]"
          },
          "metadata": {
            "needs_background": "light"
          }
        }
      ]
    },
    {
      "cell_type": "code",
      "source": [
        "print(pd.pivot_table(social_election_clean, values='Neg_Influ_FN_1', columns='Occupation').plot.hist(bins=20))"
      ],
      "metadata": {
        "colab": {
          "base_uri": "https://localhost:8080/",
          "height": 298
        },
        "id": "5JPZsALjwcD9",
        "outputId": "6a8dabcd-b2bf-48f8-fcfa-b23ee67192d3"
      },
      "execution_count": 58,
      "outputs": [
        {
          "output_type": "stream",
          "name": "stdout",
          "text": [
            "AxesSubplot(0.125,0.125;0.775x0.755)\n"
          ]
        },
        {
          "output_type": "display_data",
          "data": {
            "text/plain": [
              "<Figure size 432x288 with 1 Axes>"
            ],
            "image/png": "[encoded data removed]"
          },
          "metadata": {
            "needs_background": "light"
          }
        }
      ]
    }
  ]
}